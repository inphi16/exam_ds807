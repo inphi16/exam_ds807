{
 "cells": [
  {
   "cell_type": "code",
   "execution_count": 80,
   "metadata": {},
   "outputs": [],
   "source": [
    "# Load packages\n",
    "import numpy as np\n",
    "import pandas as pd\n",
    "import matplotlib.pyplot as plt\n",
    "import tensorflow as tf\n",
    "from sklearn.model_selection import train_test_split\n",
    "\n",
    "from sklearn.model_selection import GridSearchCV\n",
    "from sklearn.feature_extraction.text import TfidfVectorizer\n",
    "from sklearn.ensemble import RandomForestClassifier, GradientBoostingClassifier, VotingClassifier\n",
    "from sklearn.metrics import classification_report\n",
    "from sklearn.metrics import accuracy_score\n"
   ]
  },
  {
   "cell_type": "code",
   "execution_count": 81,
   "metadata": {},
   "outputs": [
    {
     "data": {
      "text/html": [
       "<div>\n",
       "<style scoped>\n",
       "    .dataframe tbody tr th:only-of-type {\n",
       "        vertical-align: middle;\n",
       "    }\n",
       "\n",
       "    .dataframe tbody tr th {\n",
       "        vertical-align: top;\n",
       "    }\n",
       "\n",
       "    .dataframe thead th {\n",
       "        text-align: right;\n",
       "    }\n",
       "</style>\n",
       "<table border=\"1\" class=\"dataframe\">\n",
       "  <thead>\n",
       "    <tr style=\"text-align: right;\">\n",
       "      <th></th>\n",
       "      <th>overall</th>\n",
       "      <th>verified</th>\n",
       "      <th>reviewTime</th>\n",
       "      <th>reviewerID</th>\n",
       "      <th>asin</th>\n",
       "      <th>style</th>\n",
       "      <th>reviewerName</th>\n",
       "      <th>reviewText</th>\n",
       "      <th>summary</th>\n",
       "      <th>unixReviewTime</th>\n",
       "      <th>vote</th>\n",
       "      <th>image</th>\n",
       "      <th>category</th>\n",
       "    </tr>\n",
       "  </thead>\n",
       "  <tbody>\n",
       "    <tr>\n",
       "      <th>0</th>\n",
       "      <td>1.0</td>\n",
       "      <td>True</td>\n",
       "      <td>03 25, 2017</td>\n",
       "      <td>A2K5ZBX75J80TX</td>\n",
       "      <td>B009MA34NY</td>\n",
       "      <td>{'Size:': ' 9 W US', 'Color:': ' Cool Grey / V...</td>\n",
       "      <td>Marjorie A. Dunbar</td>\n",
       "      <td>Ordered 9(m) received 9 Wide for the second ti...</td>\n",
       "      <td>One Star</td>\n",
       "      <td>1490400000</td>\n",
       "      <td>NaN</td>\n",
       "      <td>NaN</td>\n",
       "      <td>amazon_fashion</td>\n",
       "    </tr>\n",
       "    <tr>\n",
       "      <th>1</th>\n",
       "      <td>1.0</td>\n",
       "      <td>True</td>\n",
       "      <td>09 11, 2016</td>\n",
       "      <td>A3SM5XENOINDNH</td>\n",
       "      <td>B010RRWKT4</td>\n",
       "      <td>{'Size:': ' 7.5 B(M) US', 'Color:': ' Black/Wh...</td>\n",
       "      <td>Marielys Rodrguez</td>\n",
       "      <td>After using this shoes seven times for regular...</td>\n",
       "      <td>Poor Quality. Don't buy.</td>\n",
       "      <td>1473552000</td>\n",
       "      <td>14.0</td>\n",
       "      <td>['https://images-na.ssl-images-amazon.com/imag...</td>\n",
       "      <td>amazon_fashion</td>\n",
       "    </tr>\n",
       "    <tr>\n",
       "      <th>2</th>\n",
       "      <td>1.0</td>\n",
       "      <td>True</td>\n",
       "      <td>05 21, 2015</td>\n",
       "      <td>A36GNVEQP92OPA</td>\n",
       "      <td>B0017LGD34</td>\n",
       "      <td>NaN</td>\n",
       "      <td>Peter B. Thorp</td>\n",
       "      <td>I'm not sure I was shipped the correct style. ...</td>\n",
       "      <td>Huh</td>\n",
       "      <td>1432166400</td>\n",
       "      <td>NaN</td>\n",
       "      <td>NaN</td>\n",
       "      <td>amazon_fashion</td>\n",
       "    </tr>\n",
       "    <tr>\n",
       "      <th>3</th>\n",
       "      <td>1.0</td>\n",
       "      <td>True</td>\n",
       "      <td>02 21, 2017</td>\n",
       "      <td>ABX2R8Q6GBTJ8</td>\n",
       "      <td>B000YFSR5G</td>\n",
       "      <td>{'Size:': ' Medium', 'Color:': ' Black'}</td>\n",
       "      <td>Sammy C.</td>\n",
       "      <td>Nice pants but too small for a medium. Return it.</td>\n",
       "      <td>Returned also</td>\n",
       "      <td>1487635200</td>\n",
       "      <td>NaN</td>\n",
       "      <td>NaN</td>\n",
       "      <td>amazon_fashion</td>\n",
       "    </tr>\n",
       "    <tr>\n",
       "      <th>4</th>\n",
       "      <td>1.0</td>\n",
       "      <td>True</td>\n",
       "      <td>12 15, 2016</td>\n",
       "      <td>A3PTZ7IHGU9BA8</td>\n",
       "      <td>B009MA34NY</td>\n",
       "      <td>{'Size:': ' 7 B(M) US', 'Color:': ' Black/Red ...</td>\n",
       "      <td>Amazon Customer</td>\n",
       "      <td>wrong shoes</td>\n",
       "      <td>One Star</td>\n",
       "      <td>1481760000</td>\n",
       "      <td>NaN</td>\n",
       "      <td>NaN</td>\n",
       "      <td>amazon_fashion</td>\n",
       "    </tr>\n",
       "  </tbody>\n",
       "</table>\n",
       "</div>"
      ],
      "text/plain": [
       "   overall  verified   reviewTime      reviewerID        asin  \\\n",
       "0      1.0      True  03 25, 2017  A2K5ZBX75J80TX  B009MA34NY   \n",
       "1      1.0      True  09 11, 2016  A3SM5XENOINDNH  B010RRWKT4   \n",
       "2      1.0      True  05 21, 2015  A36GNVEQP92OPA  B0017LGD34   \n",
       "3      1.0      True  02 21, 2017   ABX2R8Q6GBTJ8  B000YFSR5G   \n",
       "4      1.0      True  12 15, 2016  A3PTZ7IHGU9BA8  B009MA34NY   \n",
       "\n",
       "                                               style        reviewerName  \\\n",
       "0  {'Size:': ' 9 W US', 'Color:': ' Cool Grey / V...  Marjorie A. Dunbar   \n",
       "1  {'Size:': ' 7.5 B(M) US', 'Color:': ' Black/Wh...   Marielys Rodrguez   \n",
       "2                                                NaN      Peter B. Thorp   \n",
       "3           {'Size:': ' Medium', 'Color:': ' Black'}            Sammy C.   \n",
       "4  {'Size:': ' 7 B(M) US', 'Color:': ' Black/Red ...     Amazon Customer   \n",
       "\n",
       "                                          reviewText  \\\n",
       "0  Ordered 9(m) received 9 Wide for the second ti...   \n",
       "1  After using this shoes seven times for regular...   \n",
       "2  I'm not sure I was shipped the correct style. ...   \n",
       "3  Nice pants but too small for a medium. Return it.   \n",
       "4                                        wrong shoes   \n",
       "\n",
       "                    summary  unixReviewTime  vote  \\\n",
       "0                  One Star      1490400000   NaN   \n",
       "1  Poor Quality. Don't buy.      1473552000  14.0   \n",
       "2                       Huh      1432166400   NaN   \n",
       "3             Returned also      1487635200   NaN   \n",
       "4                  One Star      1481760000   NaN   \n",
       "\n",
       "                                               image        category  \n",
       "0                                                NaN  amazon_fashion  \n",
       "1  ['https://images-na.ssl-images-amazon.com/imag...  amazon_fashion  \n",
       "2                                                NaN  amazon_fashion  \n",
       "3                                                NaN  amazon_fashion  \n",
       "4                                                NaN  amazon_fashion  "
      ]
     },
     "execution_count": 81,
     "metadata": {},
     "output_type": "execute_result"
    }
   ],
   "source": [
    "# load the data\n",
    "data = pd.read_csv('complete_data.csv')\n",
    "data.head()"
   ]
  },
  {
   "cell_type": "code",
   "execution_count": 82,
   "metadata": {},
   "outputs": [
    {
     "name": "stdout",
     "output_type": "stream",
     "text": [
      "shape of training set:  (5151, 13)\n",
      "shape of test set:  (573, 13)\n",
      "training dist overall\n",
      "3.0    0.252378\n",
      "1.0    0.251796\n",
      "2.0    0.249466\n",
      "4.0    0.246360\n",
      "Name: proportion, dtype: float64\n",
      "testing dist overall\n",
      "4.0    0.282723\n",
      "2.0    0.254799\n",
      "1.0    0.233857\n",
      "3.0    0.228621\n",
      "Name: proportion, dtype: float64\n",
      "shape of training set:  (5151, 13)\n",
      "shape of validation set:  (573, 13)\n"
     ]
    }
   ],
   "source": [
    "# check the shape of the data\n",
    "data['reviewText'] = data['reviewText'].fillna('No review').astype(str)\n",
    "train_data, val_data = train_test_split(data, test_size=0.1, random_state=42)\n",
    "\n",
    "# check the shape of the train and test data\n",
    "print('shape of training set: ', train_data.shape)\n",
    "print('shape of test set: ', val_data.shape)\n",
    "\n",
    "\n",
    "# check the distribution of the train and test data\n",
    "print('training dist', train_data['overall'].value_counts(normalize=True))\n",
    "print('testing dist', val_data['overall'].value_counts(normalize=True))\n",
    "\n",
    "\n",
    "\n",
    "# check the shape of the train and validation data\n",
    "print('shape of training set: ', train_data.shape)\n",
    "print('shape of validation set: ', val_data.shape)\n"
   ]
  },
  {
   "cell_type": "code",
   "execution_count": 83,
   "metadata": {},
   "outputs": [
    {
     "name": "stdout",
     "output_type": "stream",
     "text": [
      "First review: Great product - my wife loves it\n",
      "First rating: 4.0\n",
      "Length of first review: 32\n",
      "Average length of text: 189.71927781013395\n",
      "Max length of text: 2654\n",
      "Min length of text: 1\n"
     ]
    }
   ],
   "source": [
    "# print the first review and its rating using iloc\n",
    "print(f\"First review: {train_data['reviewText'].iloc[0]}\")\n",
    "print(f\"First rating: {train_data['overall'].iloc[0]}\")\n",
    "\n",
    "# print the length of the first review\n",
    "print(f\"Length of first review: {len(train_data['reviewText'].iloc[0])}\")\n",
    "\n",
    "# print the average, max, and min length of the reviews\n",
    "review_lengths = [len(t) for t in train_data['reviewText']]\n",
    "print(f\"Average length of text: {np.mean(review_lengths)}\")\n",
    "print(f\"Max length of text: {np.max(review_lengths)}\")\n",
    "print(f\"Min length of text: {np.min(review_lengths)}\")\n"
   ]
  },
  {
   "cell_type": "code",
   "execution_count": 84,
   "metadata": {},
   "outputs": [
    {
     "data": {
      "text/html": [
       "<style>#sk-container-id-11 {color: black;}#sk-container-id-11 pre{padding: 0;}#sk-container-id-11 div.sk-toggleable {background-color: white;}#sk-container-id-11 label.sk-toggleable__label {cursor: pointer;display: block;width: 100%;margin-bottom: 0;padding: 0.3em;box-sizing: border-box;text-align: center;}#sk-container-id-11 label.sk-toggleable__label-arrow:before {content: \"▸\";float: left;margin-right: 0.25em;color: #696969;}#sk-container-id-11 label.sk-toggleable__label-arrow:hover:before {color: black;}#sk-container-id-11 div.sk-estimator:hover label.sk-toggleable__label-arrow:before {color: black;}#sk-container-id-11 div.sk-toggleable__content {max-height: 0;max-width: 0;overflow: hidden;text-align: left;background-color: #f0f8ff;}#sk-container-id-11 div.sk-toggleable__content pre {margin: 0.2em;color: black;border-radius: 0.25em;background-color: #f0f8ff;}#sk-container-id-11 input.sk-toggleable__control:checked~div.sk-toggleable__content {max-height: 200px;max-width: 100%;overflow: auto;}#sk-container-id-11 input.sk-toggleable__control:checked~label.sk-toggleable__label-arrow:before {content: \"▾\";}#sk-container-id-11 div.sk-estimator input.sk-toggleable__control:checked~label.sk-toggleable__label {background-color: #d4ebff;}#sk-container-id-11 div.sk-label input.sk-toggleable__control:checked~label.sk-toggleable__label {background-color: #d4ebff;}#sk-container-id-11 input.sk-hidden--visually {border: 0;clip: rect(1px 1px 1px 1px);clip: rect(1px, 1px, 1px, 1px);height: 1px;margin: -1px;overflow: hidden;padding: 0;position: absolute;width: 1px;}#sk-container-id-11 div.sk-estimator {font-family: monospace;background-color: #f0f8ff;border: 1px dotted black;border-radius: 0.25em;box-sizing: border-box;margin-bottom: 0.5em;}#sk-container-id-11 div.sk-estimator:hover {background-color: #d4ebff;}#sk-container-id-11 div.sk-parallel-item::after {content: \"\";width: 100%;border-bottom: 1px solid gray;flex-grow: 1;}#sk-container-id-11 div.sk-label:hover label.sk-toggleable__label {background-color: #d4ebff;}#sk-container-id-11 div.sk-serial::before {content: \"\";position: absolute;border-left: 1px solid gray;box-sizing: border-box;top: 0;bottom: 0;left: 50%;z-index: 0;}#sk-container-id-11 div.sk-serial {display: flex;flex-direction: column;align-items: center;background-color: white;padding-right: 0.2em;padding-left: 0.2em;position: relative;}#sk-container-id-11 div.sk-item {position: relative;z-index: 1;}#sk-container-id-11 div.sk-parallel {display: flex;align-items: stretch;justify-content: center;background-color: white;position: relative;}#sk-container-id-11 div.sk-item::before, #sk-container-id-11 div.sk-parallel-item::before {content: \"\";position: absolute;border-left: 1px solid gray;box-sizing: border-box;top: 0;bottom: 0;left: 50%;z-index: -1;}#sk-container-id-11 div.sk-parallel-item {display: flex;flex-direction: column;z-index: 1;position: relative;background-color: white;}#sk-container-id-11 div.sk-parallel-item:first-child::after {align-self: flex-end;width: 50%;}#sk-container-id-11 div.sk-parallel-item:last-child::after {align-self: flex-start;width: 50%;}#sk-container-id-11 div.sk-parallel-item:only-child::after {width: 0;}#sk-container-id-11 div.sk-dashed-wrapped {border: 1px dashed gray;margin: 0 0.4em 0.5em 0.4em;box-sizing: border-box;padding-bottom: 0.4em;background-color: white;}#sk-container-id-11 div.sk-label label {font-family: monospace;font-weight: bold;display: inline-block;line-height: 1.2em;}#sk-container-id-11 div.sk-label-container {text-align: center;}#sk-container-id-11 div.sk-container {/* jupyter's `normalize.less` sets `[hidden] { display: none; }` but bootstrap.min.css set `[hidden] { display: none !important; }` so we also need the `!important` here to be able to override the default hidden behavior on the sphinx rendered scikit-learn.org. See: https://github.com/scikit-learn/scikit-learn/issues/21755 */display: inline-block !important;position: relative;}#sk-container-id-11 div.sk-text-repr-fallback {display: none;}</style><div id=\"sk-container-id-11\" class=\"sk-top-container\"><div class=\"sk-text-repr-fallback\"><pre>VotingClassifier(estimators=[(&#x27;gbc&#x27;,\n",
       "                              GradientBoostingClassifier(random_state=42)),\n",
       "                             (&#x27;rf&#x27;,\n",
       "                              RandomForestClassifier(max_depth=3,\n",
       "                                                     random_state=42))],\n",
       "                 voting=&#x27;soft&#x27;)</pre><b>In a Jupyter environment, please rerun this cell to show the HTML representation or trust the notebook. <br />On GitHub, the HTML representation is unable to render, please try loading this page with nbviewer.org.</b></div><div class=\"sk-container\" hidden><div class=\"sk-item sk-dashed-wrapped\"><div class=\"sk-label-container\"><div class=\"sk-label sk-toggleable\"><input class=\"sk-toggleable__control sk-hidden--visually\" id=\"sk-estimator-id-29\" type=\"checkbox\" ><label for=\"sk-estimator-id-29\" class=\"sk-toggleable__label sk-toggleable__label-arrow\">VotingClassifier</label><div class=\"sk-toggleable__content\"><pre>VotingClassifier(estimators=[(&#x27;gbc&#x27;,\n",
       "                              GradientBoostingClassifier(random_state=42)),\n",
       "                             (&#x27;rf&#x27;,\n",
       "                              RandomForestClassifier(max_depth=3,\n",
       "                                                     random_state=42))],\n",
       "                 voting=&#x27;soft&#x27;)</pre></div></div></div><div class=\"sk-parallel\"><div class=\"sk-parallel-item\"><div class=\"sk-item\"><div class=\"sk-label-container\"><div class=\"sk-label sk-toggleable\"><label>gbc</label></div></div><div class=\"sk-serial\"><div class=\"sk-item\"><div class=\"sk-estimator sk-toggleable\"><input class=\"sk-toggleable__control sk-hidden--visually\" id=\"sk-estimator-id-30\" type=\"checkbox\" ><label for=\"sk-estimator-id-30\" class=\"sk-toggleable__label sk-toggleable__label-arrow\">GradientBoostingClassifier</label><div class=\"sk-toggleable__content\"><pre>GradientBoostingClassifier(random_state=42)</pre></div></div></div></div></div></div><div class=\"sk-parallel-item\"><div class=\"sk-item\"><div class=\"sk-label-container\"><div class=\"sk-label sk-toggleable\"><label>rf</label></div></div><div class=\"sk-serial\"><div class=\"sk-item\"><div class=\"sk-estimator sk-toggleable\"><input class=\"sk-toggleable__control sk-hidden--visually\" id=\"sk-estimator-id-31\" type=\"checkbox\" ><label for=\"sk-estimator-id-31\" class=\"sk-toggleable__label sk-toggleable__label-arrow\">RandomForestClassifier</label><div class=\"sk-toggleable__content\"><pre>RandomForestClassifier(max_depth=3, random_state=42)</pre></div></div></div></div></div></div></div></div></div></div>"
      ],
      "text/plain": [
       "VotingClassifier(estimators=[('gbc',\n",
       "                              GradientBoostingClassifier(random_state=42)),\n",
       "                             ('rf',\n",
       "                              RandomForestClassifier(max_depth=3,\n",
       "                                                     random_state=42))],\n",
       "                 voting='soft')"
      ]
     },
     "execution_count": 84,
     "metadata": {},
     "output_type": "execute_result"
    }
   ],
   "source": [
    "# Feature Extraction with TF-IDF\n",
    "max_features = 200  # Adjust as necessary\n",
    "\n",
    "tfidf = TfidfVectorizer(max_features=max_features)\n",
    "X_train_tfidf = tfidf.fit_transform(train_data['reviewText'])\n",
    "X_val_tfidf = tfidf.transform(val_data['reviewText'])\n",
    "\n",
    "# Gradient Boosting Classifier\n",
    "gbc = GradientBoostingClassifier(n_estimators=100, max_depth=3, random_state=42)\n",
    "gbc.fit(X_train_tfidf, train_data['overall'])\n",
    "\n",
    "# Random Forest Classifier\n",
    "rf = RandomForestClassifier(n_estimators=100, max_depth=3, random_state=42)\n",
    "rf.fit(X_train_tfidf, train_data['overall'])\n",
    "\n",
    "# Voting Classifier\n",
    "voting_clf = VotingClassifier(\n",
    "    estimators=[('gbc', gbc), ('rf', rf)], \n",
    "    voting='soft'\n",
    ")\n",
    "\n",
    "# Fit the Voting Classifier\n",
    "voting_clf.fit(X_train_tfidf, train_data['overall'])\n"
   ]
  },
  {
   "cell_type": "code",
   "execution_count": 85,
   "metadata": {},
   "outputs": [
    {
     "name": "stdout",
     "output_type": "stream",
     "text": [
      "Classification Report:\n",
      "\n",
      "              precision    recall  f1-score   support\n",
      "\n",
      "         1.0       0.89      0.88      0.88       134\n",
      "         2.0       0.89      0.84      0.87       146\n",
      "         3.0       0.76      0.79      0.77       131\n",
      "         4.0       0.77      0.79      0.78       162\n",
      "\n",
      "    accuracy                           0.82       573\n",
      "   macro avg       0.83      0.82      0.83       573\n",
      "weighted avg       0.83      0.82      0.82       573\n",
      "\n",
      "Accuracy Score: 0.8237347294938918\n"
     ]
    }
   ],
   "source": [
    "# Prediction and Evaluation\n",
    "y_pred = voting_clf.predict(X_val_tfidf)\n",
    "\n",
    "# Print the classification report\n",
    "print(\"Classification Report:\\n\")\n",
    "print(classification_report(val_data['overall'], y_pred))\n",
    "\n",
    "# Print the accuracy score\n",
    "accuracy = accuracy_score(val_data['overall'], y_pred)\n",
    "print(\"Accuracy Score:\", accuracy)"
   ]
  },
  {
   "cell_type": "markdown",
   "metadata": {},
   "source": [
    "alternative using grid search"
   ]
  },
  {
   "cell_type": "code",
   "execution_count": 86,
   "metadata": {},
   "outputs": [
    {
     "name": "stdout",
     "output_type": "stream",
     "text": [
      "Best parameters: {'gbc__max_depth': 15, 'gbc__n_estimators': 100, 'rf__max_depth': 15, 'rf__n_estimators': 100}\n",
      "Best score: 0.9172968086408708\n"
     ]
    }
   ],
   "source": [
    "# Parameter grid for Gradient Boosting Classifier\n",
    "param_grid_gbc = {\n",
    "    'gbc__n_estimators': [50, 100, 200],\n",
    "    'gbc__max_depth': [3, 5, 10, 15]\n",
    "}\n",
    "\n",
    "# Parameter grid for Random Forest Classifier\n",
    "param_grid_rf = {\n",
    "    'rf__n_estimators': [50, 100, 200],\n",
    "    'rf__max_depth': [3, 5, 10, 15]\n",
    "}\n",
    "\n",
    "# Combine the parameter grids\n",
    "param_grid = {**param_grid_gbc, **param_grid_rf}\n",
    "\n",
    "# Voting Classifier\n",
    "voting_clf = VotingClassifier(\n",
    "    estimators=[('gbc', GradientBoostingClassifier(random_state=42)), \n",
    "                ('rf', RandomForestClassifier(random_state=42))], \n",
    "    voting='soft'\n",
    ")\n",
    "\n",
    "# Grid Search with cross-validation\n",
    "grid_search = GridSearchCV(voting_clf, param_grid, cv=5, scoring='accuracy', n_jobs=-1)\n",
    "\n",
    "# Fit the Grid Search to the data\n",
    "grid_search.fit(X_train_tfidf, train_data['overall'])\n",
    "\n",
    "# Best parameters and best score\n",
    "print(\"Best parameters:\", grid_search.best_params_)\n",
    "print(\"Best score:\", grid_search.best_score_)\n",
    "\n",
    "best_model = grid_search.best_estimator_\n",
    "predictions = best_model.predict(X_val_tfidf)\n"
   ]
  },
  {
   "cell_type": "code",
   "execution_count": 87,
   "metadata": {},
   "outputs": [
    {
     "name": "stdout",
     "output_type": "stream",
     "text": [
      "Classification Report:\n",
      "\n",
      "              precision    recall  f1-score   support\n",
      "\n",
      "         1.0       0.97      0.95      0.96       134\n",
      "         2.0       0.96      0.94      0.95       146\n",
      "         3.0       0.90      0.92      0.91       131\n",
      "         4.0       0.90      0.91      0.91       162\n",
      "\n",
      "    accuracy                           0.93       573\n",
      "   macro avg       0.93      0.93      0.93       573\n",
      "weighted avg       0.93      0.93      0.93       573\n",
      "\n",
      "Accuracy Score: 0.9301919720767888\n"
     ]
    }
   ],
   "source": [
    "# Print the classification report\n",
    "print(\"Classification Report:\\n\")\n",
    "print(classification_report(val_data['overall'], predictions))\n",
    "\n",
    "# Print the accuracy score\n",
    "accuracy = accuracy_score(val_data['overall'], predictions)\n",
    "print(\"Accuracy Score:\", accuracy)"
   ]
  },
  {
   "cell_type": "code",
   "execution_count": 105,
   "metadata": {},
   "outputs": [],
   "source": [
    "# Load test data\n",
    "test_data = pd.read_csv('luxury_beauty.csv')"
   ]
  },
  {
   "cell_type": "code",
   "execution_count": 113,
   "metadata": {},
   "outputs": [
    {
     "name": "stdout",
     "output_type": "stream",
     "text": [
      "shape of test set:  (17750, 12)\n",
      "test dist overall\n",
      "4.0    0.708282\n",
      "3.0    0.135887\n",
      "2.0    0.081070\n",
      "1.0    0.074761\n",
      "Name: proportion, dtype: float64\n",
      "shape of test set:  (17750, 12)\n"
     ]
    }
   ],
   "source": [
    "# check the shape of the data\n",
    "test_data['reviewText'] = test_data['reviewText'].fillna('No review').astype(str)\n",
    "\n",
    "# check the shape of the train and test data\n",
    "print('shape of test set: ', test_data.shape)\n",
    "\n",
    "# check the distribution of the train and test data\n",
    "print('test dist', test_data['overall'].value_counts(normalize=True))\n",
    "\n",
    "# check the shape of the train and validation data\n",
    "print('shape of test set: ', test_data.shape)"
   ]
  },
  {
   "cell_type": "code",
   "execution_count": 107,
   "metadata": {},
   "outputs": [],
   "source": [
    "X_test_tfidf = tfidf.fit_transform(test_data['reviewText'])\n",
    "X_data_tfidf = tfidf.fit_transform(data['reviewText'])"
   ]
  },
  {
   "cell_type": "code",
   "execution_count": 109,
   "metadata": {},
   "outputs": [
    {
     "data": {
      "text/html": [
       "<style>#sk-container-id-15 {color: black;}#sk-container-id-15 pre{padding: 0;}#sk-container-id-15 div.sk-toggleable {background-color: white;}#sk-container-id-15 label.sk-toggleable__label {cursor: pointer;display: block;width: 100%;margin-bottom: 0;padding: 0.3em;box-sizing: border-box;text-align: center;}#sk-container-id-15 label.sk-toggleable__label-arrow:before {content: \"▸\";float: left;margin-right: 0.25em;color: #696969;}#sk-container-id-15 label.sk-toggleable__label-arrow:hover:before {color: black;}#sk-container-id-15 div.sk-estimator:hover label.sk-toggleable__label-arrow:before {color: black;}#sk-container-id-15 div.sk-toggleable__content {max-height: 0;max-width: 0;overflow: hidden;text-align: left;background-color: #f0f8ff;}#sk-container-id-15 div.sk-toggleable__content pre {margin: 0.2em;color: black;border-radius: 0.25em;background-color: #f0f8ff;}#sk-container-id-15 input.sk-toggleable__control:checked~div.sk-toggleable__content {max-height: 200px;max-width: 100%;overflow: auto;}#sk-container-id-15 input.sk-toggleable__control:checked~label.sk-toggleable__label-arrow:before {content: \"▾\";}#sk-container-id-15 div.sk-estimator input.sk-toggleable__control:checked~label.sk-toggleable__label {background-color: #d4ebff;}#sk-container-id-15 div.sk-label input.sk-toggleable__control:checked~label.sk-toggleable__label {background-color: #d4ebff;}#sk-container-id-15 input.sk-hidden--visually {border: 0;clip: rect(1px 1px 1px 1px);clip: rect(1px, 1px, 1px, 1px);height: 1px;margin: -1px;overflow: hidden;padding: 0;position: absolute;width: 1px;}#sk-container-id-15 div.sk-estimator {font-family: monospace;background-color: #f0f8ff;border: 1px dotted black;border-radius: 0.25em;box-sizing: border-box;margin-bottom: 0.5em;}#sk-container-id-15 div.sk-estimator:hover {background-color: #d4ebff;}#sk-container-id-15 div.sk-parallel-item::after {content: \"\";width: 100%;border-bottom: 1px solid gray;flex-grow: 1;}#sk-container-id-15 div.sk-label:hover label.sk-toggleable__label {background-color: #d4ebff;}#sk-container-id-15 div.sk-serial::before {content: \"\";position: absolute;border-left: 1px solid gray;box-sizing: border-box;top: 0;bottom: 0;left: 50%;z-index: 0;}#sk-container-id-15 div.sk-serial {display: flex;flex-direction: column;align-items: center;background-color: white;padding-right: 0.2em;padding-left: 0.2em;position: relative;}#sk-container-id-15 div.sk-item {position: relative;z-index: 1;}#sk-container-id-15 div.sk-parallel {display: flex;align-items: stretch;justify-content: center;background-color: white;position: relative;}#sk-container-id-15 div.sk-item::before, #sk-container-id-15 div.sk-parallel-item::before {content: \"\";position: absolute;border-left: 1px solid gray;box-sizing: border-box;top: 0;bottom: 0;left: 50%;z-index: -1;}#sk-container-id-15 div.sk-parallel-item {display: flex;flex-direction: column;z-index: 1;position: relative;background-color: white;}#sk-container-id-15 div.sk-parallel-item:first-child::after {align-self: flex-end;width: 50%;}#sk-container-id-15 div.sk-parallel-item:last-child::after {align-self: flex-start;width: 50%;}#sk-container-id-15 div.sk-parallel-item:only-child::after {width: 0;}#sk-container-id-15 div.sk-dashed-wrapped {border: 1px dashed gray;margin: 0 0.4em 0.5em 0.4em;box-sizing: border-box;padding-bottom: 0.4em;background-color: white;}#sk-container-id-15 div.sk-label label {font-family: monospace;font-weight: bold;display: inline-block;line-height: 1.2em;}#sk-container-id-15 div.sk-label-container {text-align: center;}#sk-container-id-15 div.sk-container {/* jupyter's `normalize.less` sets `[hidden] { display: none; }` but bootstrap.min.css set `[hidden] { display: none !important; }` so we also need the `!important` here to be able to override the default hidden behavior on the sphinx rendered scikit-learn.org. See: https://github.com/scikit-learn/scikit-learn/issues/21755 */display: inline-block !important;position: relative;}#sk-container-id-15 div.sk-text-repr-fallback {display: none;}</style><div id=\"sk-container-id-15\" class=\"sk-top-container\"><div class=\"sk-text-repr-fallback\"><pre>VotingClassifier(estimators=[(&#x27;gbc&#x27;,\n",
       "                              GradientBoostingClassifier(max_depth=15,\n",
       "                                                         random_state=42)),\n",
       "                             (&#x27;rf&#x27;,\n",
       "                              RandomForestClassifier(max_depth=15,\n",
       "                                                     random_state=42))],\n",
       "                 voting=&#x27;soft&#x27;)</pre><b>In a Jupyter environment, please rerun this cell to show the HTML representation or trust the notebook. <br />On GitHub, the HTML representation is unable to render, please try loading this page with nbviewer.org.</b></div><div class=\"sk-container\" hidden><div class=\"sk-item sk-dashed-wrapped\"><div class=\"sk-label-container\"><div class=\"sk-label sk-toggleable\"><input class=\"sk-toggleable__control sk-hidden--visually\" id=\"sk-estimator-id-35\" type=\"checkbox\" ><label for=\"sk-estimator-id-35\" class=\"sk-toggleable__label sk-toggleable__label-arrow\">VotingClassifier</label><div class=\"sk-toggleable__content\"><pre>VotingClassifier(estimators=[(&#x27;gbc&#x27;,\n",
       "                              GradientBoostingClassifier(max_depth=15,\n",
       "                                                         random_state=42)),\n",
       "                             (&#x27;rf&#x27;,\n",
       "                              RandomForestClassifier(max_depth=15,\n",
       "                                                     random_state=42))],\n",
       "                 voting=&#x27;soft&#x27;)</pre></div></div></div><div class=\"sk-parallel\"><div class=\"sk-parallel-item\"><div class=\"sk-item\"><div class=\"sk-label-container\"><div class=\"sk-label sk-toggleable\"><label>gbc</label></div></div><div class=\"sk-serial\"><div class=\"sk-item\"><div class=\"sk-estimator sk-toggleable\"><input class=\"sk-toggleable__control sk-hidden--visually\" id=\"sk-estimator-id-36\" type=\"checkbox\" ><label for=\"sk-estimator-id-36\" class=\"sk-toggleable__label sk-toggleable__label-arrow\">GradientBoostingClassifier</label><div class=\"sk-toggleable__content\"><pre>GradientBoostingClassifier(max_depth=15, random_state=42)</pre></div></div></div></div></div></div><div class=\"sk-parallel-item\"><div class=\"sk-item\"><div class=\"sk-label-container\"><div class=\"sk-label sk-toggleable\"><label>rf</label></div></div><div class=\"sk-serial\"><div class=\"sk-item\"><div class=\"sk-estimator sk-toggleable\"><input class=\"sk-toggleable__control sk-hidden--visually\" id=\"sk-estimator-id-37\" type=\"checkbox\" ><label for=\"sk-estimator-id-37\" class=\"sk-toggleable__label sk-toggleable__label-arrow\">RandomForestClassifier</label><div class=\"sk-toggleable__content\"><pre>RandomForestClassifier(max_depth=15, random_state=42)</pre></div></div></div></div></div></div></div></div></div></div>"
      ],
      "text/plain": [
       "VotingClassifier(estimators=[('gbc',\n",
       "                              GradientBoostingClassifier(max_depth=15,\n",
       "                                                         random_state=42)),\n",
       "                             ('rf',\n",
       "                              RandomForestClassifier(max_depth=15,\n",
       "                                                     random_state=42))],\n",
       "                 voting='soft')"
      ]
     },
     "execution_count": 109,
     "metadata": {},
     "output_type": "execute_result"
    }
   ],
   "source": [
    "# Retrain Model with Best Parameters and All Data\n",
    "# Gradient Boosting Classifier\n",
    "gbc = GradientBoostingClassifier(n_estimators=100, max_depth=15, random_state=42)\n",
    "gbc.fit(X_data_tfidf, data['overall'])\n",
    "\n",
    "# Random Forest Classifier\n",
    "rf = RandomForestClassifier(n_estimators=100, max_depth=15, random_state=42)\n",
    "rf.fit(X_data_tfidf, data['overall'])\n",
    "\n",
    "# Voting Classifier\n",
    "voting_clf = VotingClassifier(\n",
    "    estimators=[('gbc', gbc), ('rf', rf)], \n",
    "    voting='soft'\n",
    ")\n",
    "\n",
    "# Fit the Voting Classifier\n",
    "voting_clf.fit(X_data_tfidf, data['overall'])"
   ]
  },
  {
   "cell_type": "code",
   "execution_count": 110,
   "metadata": {},
   "outputs": [
    {
     "name": "stdout",
     "output_type": "stream",
     "text": [
      "Classification Report:\n",
      "\n",
      "              precision    recall  f1-score   support\n",
      "\n",
      "         1.0       0.08      0.08      0.08      1327\n",
      "         2.0       0.08      0.03      0.05      1439\n",
      "         3.0       0.15      0.15      0.15      2412\n",
      "         4.0       0.73      0.77      0.75     12572\n",
      "\n",
      "    accuracy                           0.57     17750\n",
      "   macro avg       0.26      0.26      0.26     17750\n",
      "weighted avg       0.55      0.57      0.56     17750\n",
      "\n",
      "Accuracy Score: 0.5745352112676056\n"
     ]
    }
   ],
   "source": [
    "# Prediction and Evaluation\n",
    "y_pred = voting_clf.predict(X_test_tfidf)\n",
    "\n",
    "# Print the classification report\n",
    "print(\"Classification Report:\\n\")\n",
    "print(classification_report(test_data['overall'], y_pred))\n",
    "\n",
    "# Print the accuracy score\n",
    "accuracy = accuracy_score(test_data['overall'], y_pred)\n",
    "print(\"Accuracy Score:\", accuracy)"
   ]
  }
 ],
 "metadata": {
  "kernelspec": {
   "display_name": "amlfall23",
   "language": "python",
   "name": "python3"
  },
  "language_info": {
   "codemirror_mode": {
    "name": "ipython",
    "version": 3
   },
   "file_extension": ".py",
   "mimetype": "text/x-python",
   "name": "python",
   "nbconvert_exporter": "python",
   "pygments_lexer": "ipython3",
   "version": "3.11.5"
  }
 },
 "nbformat": 4,
 "nbformat_minor": 2
}
