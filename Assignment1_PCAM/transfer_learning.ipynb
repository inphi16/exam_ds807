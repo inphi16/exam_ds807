{
 "cells": [
  {
   "cell_type": "code",
   "execution_count": 1,
   "metadata": {},
   "outputs": [],
   "source": [
    "import pathlib\n",
    "import tensorflow as tf\n",
    "from tensorflow.keras.applications import ResNet50\n",
    "from tensorflow.keras.applications.resnet50 import preprocess_input\n",
    "from tensorflow.keras.models import load_model\n",
    "from keras.callbacks import CSVLogger\n",
    "import tensorflow_datasets as tfds\n",
    "import numpy as np\n",
    "import pandas as pd"
   ]
  },
  {
   "cell_type": "code",
   "execution_count": 2,
   "metadata": {},
   "outputs": [],
   "source": [
    "# get current working directory\n",
    "cwd = pathlib.Path.cwd()"
   ]
  },
  {
   "cell_type": "code",
   "execution_count": 3,
   "metadata": {},
   "outputs": [],
   "source": [
    "ds1, ds2, ds3 = tfds.load('patch_camelyon', split=['train[:30%]', 'test[:7%]', 'validation[:7%]'], \n",
    "                                data_dir=cwd, \n",
    "                                download=False, \n",
    "                                shuffle_files=True)"
   ]
  },
  {
   "cell_type": "code",
   "execution_count": 4,
   "metadata": {},
   "outputs": [],
   "source": [
    "# Function to preprocess the images and labels\n",
    "def preprocess(data):\n",
    "    image = data['image']\n",
    "    label = data['label']\n",
    "    image = tf.image.resize(image, [224, 224])  # Resize to 224x224\n",
    "    image = preprocess_input(image)  # Apply ResNet-specific preprocessing\n",
    "    return image, label"
   ]
  },
  {
   "cell_type": "code",
   "execution_count": 5,
   "metadata": {},
   "outputs": [],
   "source": [
    "# Apply the preprocessing function to the dataset\n",
    "transfer_train_data = ds1.map(preprocess).batch(32)\n",
    "transfer_validation_data = ds2.map(preprocess).batch(32)\n",
    "transfer_test_data = ds3.map(preprocess).batch(32)"
   ]
  },
  {
   "cell_type": "code",
   "execution_count": 6,
   "metadata": {},
   "outputs": [],
   "source": [
    "resnet_model = ResNet50(weights='imagenet', include_top=False, input_shape=(224, 224, 3))"
   ]
  },
  {
   "cell_type": "code",
   "execution_count": 7,
   "metadata": {},
   "outputs": [],
   "source": [
    "# Freeze the base model layers\n",
    "for layer in resnet_model.layers:\n",
    "    layer.trainable = False"
   ]
  },
  {
   "cell_type": "code",
   "execution_count": 8,
   "metadata": {},
   "outputs": [],
   "source": [
    "# Transfer Model Architecture\n",
    "transfer_model = tf.keras.Sequential([\n",
    "    resnet_model,\n",
    "    tf.keras.layers.GlobalAveragePooling2D(),\n",
    "    tf.keras.layers.Dense(1024, activation='relu'),\n",
    "    tf.keras.layers.Dense(1, activation='sigmoid')\n",
    "])"
   ]
  },
  {
   "cell_type": "code",
   "execution_count": 9,
   "metadata": {},
   "outputs": [],
   "source": [
    "transfer_model.compile(optimizer='adam', loss='binary_crossentropy', metrics=['accuracy'])"
   ]
  },
  {
   "cell_type": "code",
   "execution_count": null,
   "metadata": {},
   "outputs": [
    {
     "name": "stdout",
     "output_type": "stream",
     "text": [
      "Epoch 1/50\n",
      "  91/2458 [>.............................] - ETA: 12:13 - loss: 0.5393 - accuracy: 0.7995"
     ]
    }
   ],
   "source": [
    "# Create CSVLogger callback to save history\n",
    "csv_filepath = 'ae_low_training_log.csv'\n",
    "csv_logger = CSVLogger(csv_filepath, append=True)\n",
    "\n",
    "history = transfer_model.fit(\n",
    "    transfer_train_data,\n",
    "    validation_data=transfer_validation_data,\n",
    "    epochs=50,\n",
    "    callbacks=[csv_logger]  # Add custom callback here\n",
    ")"
   ]
  },
  {
   "cell_type": "code",
   "execution_count": null,
   "metadata": {},
   "outputs": [],
   "source": [
    "import matplotlib.pyplot as plt\n",
    "\n",
    "plt.figure(figsize=(12, 5))\n",
    "\n",
    "# Plot Training and Validation Loss\n",
    "plt.subplot(1, 2, 1)\n",
    "plt.plot(history.history['loss'], label='Training loss')\n",
    "plt.plot(history.history['val_loss'], label='Validation loss')\n",
    "plt.title('Training and Validation Loss')\n",
    "plt.legend()\n",
    "\n",
    "# Plot Training and Validation Accuracy\n",
    "plt.subplot(1, 2, 2)\n",
    "plt.plot(history.history['accuracy'], label='Training accuracy')\n",
    "plt.plot(history.history['val_accuracy'], label='Validation accuracy')\n",
    "plt.title('Training and Validation Accuracy')\n",
    "plt.savefig('transfer_learning_loss_acc.png')\n",
    "plt.legend()\n",
    "\n",
    "plt.show()"
   ]
  },
  {
   "cell_type": "code",
   "execution_count": null,
   "metadata": {},
   "outputs": [],
   "source": [
    "transfer_model.save('transfer_model.h5')"
   ]
  },
  {
   "cell_type": "code",
   "execution_count": null,
   "metadata": {},
   "outputs": [],
   "source": [
    "model = load_model('transfer_model.h5') \n",
    "\n",
    "# Predict on test data\n",
    "predictions = model.predict(transfer_test_data)\n",
    "\n",
    "predicted_labels = np.argmax(predictions, axis=1)\n",
    "\n",
    "predictions_pd = pd.DataFrame({\n",
    "    'Id': list(range(len(predictions))),\n",
    "    'Predicted': predictions.reshape(-1,),\n",
    "})\n",
    "\n",
    "predictions_pd.to_csv('final_predictions_transfer_learning.csv', index=False)"
   ]
  },
  {
   "cell_type": "code",
   "execution_count": null,
   "metadata": {
    "scrolled": true
   },
   "outputs": [],
   "source": [
    "true_labels = []\n",
    "for images, labels in transfer_test_data.unbatch().take(len(predictions)):\n",
    "    true_labels.append(labels.numpy())\n",
    "\n",
    "# Convert the true labels to a numpy array\n",
    "true_labels = np.array(true_labels)\n",
    "\n",
    "# If true_labels is one-hot encoded (2D), convert it to class indices\n",
    "if true_labels.ndim == 2:\n",
    "    true_labels = np.argmax(true_labels, axis=1)\n",
    "\n",
    "# Calculate the accuracy\n",
    "accuracy = np.mean(predicted_labels == true_labels)\n",
    "my_string = f\"Accuracy: {accuracy * 100:.2f}%\"\n",
    "print(my_string)\n",
    "\n",
    "# Write the accuracy to a csv file\n",
    "with open(\"accuracy_transfer_learning.csv\", 'w') as file:\n",
    "    file.write(my_string)\n"
   ]
  },
  {
   "cell_type": "code",
   "execution_count": null,
   "metadata": {},
   "outputs": [],
   "source": []
  }
 ],
 "metadata": {
  "kernelspec": {
   "display_name": "Python 3 (ipykernel)",
   "language": "python",
   "name": "python3"
  },
  "language_info": {
   "codemirror_mode": {
    "name": "ipython",
    "version": 3
   },
   "file_extension": ".py",
   "mimetype": "text/x-python",
   "name": "python",
   "nbconvert_exporter": "python",
   "pygments_lexer": "ipython3",
   "version": "3.10.12"
  }
 },
 "nbformat": 4,
 "nbformat_minor": 4
}
